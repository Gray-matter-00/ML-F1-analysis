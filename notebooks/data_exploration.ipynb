# This is a sample of what you would include in the notebook
import pandas as pd
import seaborn as sns
import matplotlib.pyplot as plt

# Load and explore the data
df = pd.read_csv('../data/f1_dataset.csv')
print(df.head())

# Example plot
sns.countplot(data=df, x='team')
plt.show()
